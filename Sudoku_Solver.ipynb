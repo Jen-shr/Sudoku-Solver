{
  "nbformat": 4,
  "nbformat_minor": 0,
  "metadata": {
    "colab": {
      "provenance": []
    },
    "kernelspec": {
      "name": "python3",
      "display_name": "Python 3"
    },
    "language_info": {
      "name": "python"
    }
  },
  "cells": [
    {
      "cell_type": "markdown",
      "source": [
        "# Find empty space in the board"
      ],
      "metadata": {
        "id": "wN6vOE7q4E9X"
      }
    },
    {
      "cell_type": "code",
      "source": [
        "def find_empty_location(board):\n",
        "  for i in range(9):\n",
        "    for j in range(9):\n",
        "      if board[i][j] == 0:\n",
        "        return i, j\n",
        "\n",
        "  return -1, -1\n"
      ],
      "metadata": {
        "id": "jAdLESJc3poX"
      },
      "execution_count": 7,
      "outputs": []
    },
    {
      "cell_type": "markdown",
      "source": [
        "# Checks if the number opted for the position is valid or not"
      ],
      "metadata": {
        "id": "ajjRKDfn4NR7"
      }
    },
    {
      "cell_type": "code",
      "execution_count": 6,
      "metadata": {
        "id": "1VGvjZ8N3ecQ"
      },
      "outputs": [],
      "source": [
        "def is_valid(board, row, col, num):\n",
        "    # Check if the number is already in the row\n",
        "    if num in board[row]:\n",
        "        return False\n",
        "\n",
        "    # Check if the number is already in the column\n",
        "    for i in range(9):\n",
        "        if board[i][col] == num:\n",
        "            return False\n",
        "\n",
        "    # Check if the number is already in the 3x3 box\n",
        "    start_row = 3 * (row // 3)\n",
        "    start_col = 3 * (col // 3)\n",
        "    for i in range(3):\n",
        "        for j in range(3):\n",
        "            if board[start_row + i][start_col + j] == num:\n",
        "                return False\n",
        "\n",
        "    return True"
      ]
    },
    {
      "cell_type": "markdown",
      "source": [
        "# Main Program - Backtracking"
      ],
      "metadata": {
        "id": "mvuop1VP5YX2"
      }
    },
    {
      "cell_type": "code",
      "source": [
        "def sudoku_solver(board):\n",
        "  row, col = find_empty_location(board)\n",
        "\n",
        "  # if the board is full (Solution found)\n",
        "  if row == -1 and col == -1:\n",
        "      return True\n",
        "\n",
        "  for num in range(1,10):\n",
        "    if is_valid(board, row, col, num):\n",
        "        board[row][col] = num\n",
        "\n",
        "        if sudoku_solver(board):\n",
        "          return True\n",
        "\n",
        "\n",
        "    board[row][col] = 0\n",
        "\n",
        "  return False\n",
        "\n",
        "\n"
      ],
      "metadata": {
        "id": "f-1xhJLR5cUq"
      },
      "execution_count": 13,
      "outputs": []
    },
    {
      "cell_type": "code",
      "source": [
        "board = [\n",
        "    [5, 3, 0, 0, 7, 0, 0, 0, 0],\n",
        "    [6, 0, 0, 1, 9, 5, 0, 0, 0],\n",
        "    [0, 9, 8, 0, 0, 0, 0, 6, 0],\n",
        "    [8, 0, 0, 0, 6, 0, 0, 0, 3],\n",
        "    [4, 0, 0, 8, 0, 3, 0, 0, 1],\n",
        "    [7, 0, 0, 0, 2, 0, 0, 0, 6],\n",
        "    [0, 6, 0, 0, 0, 0, 2, 8, 0],\n",
        "    [0, 0, 0, 4, 1, 9, 0, 0, 5],\n",
        "    [0, 0, 0, 0, 8, 0, 0, 7, 9]\n",
        "]\n",
        "\n",
        "if sudoku_solver(board):\n",
        "    print(\"Sudoku puzzle solved:\")\n",
        "    for row in board:\n",
        "        print(row)\n",
        "else:\n",
        "    print(\"No solution exists for the given Sudoku puzzle.\")"
      ],
      "metadata": {
        "colab": {
          "base_uri": "https://localhost:8080/"
        },
        "id": "uBnkw_RNAF3M",
        "outputId": "28704f10-8012-4ab3-e564-f251fcad10da"
      },
      "execution_count": 15,
      "outputs": [
        {
          "output_type": "stream",
          "name": "stdout",
          "text": [
            "Sudoku puzzle solved:\n",
            "[5, 3, 4, 6, 7, 8, 9, 1, 2]\n",
            "[6, 7, 2, 1, 9, 5, 3, 4, 8]\n",
            "[1, 9, 8, 3, 4, 2, 5, 6, 7]\n",
            "[8, 5, 9, 7, 6, 1, 4, 2, 3]\n",
            "[4, 2, 6, 8, 5, 3, 7, 9, 1]\n",
            "[7, 1, 3, 9, 2, 4, 8, 5, 6]\n",
            "[9, 6, 1, 5, 3, 7, 2, 8, 4]\n",
            "[2, 8, 7, 4, 1, 9, 6, 3, 5]\n",
            "[3, 4, 5, 2, 8, 6, 1, 7, 9]\n"
          ]
        }
      ]
    },
    {
      "cell_type": "code",
      "source": [],
      "metadata": {
        "colab": {
          "base_uri": "https://localhost:8080/",
          "height": 211
        },
        "id": "8oT_YxgL-ax2",
        "outputId": "a8cf32c7-9894-4b45-f0a1-6d951619d6c6"
      },
      "execution_count": 4,
      "outputs": [
        {
          "output_type": "error",
          "ename": "NameError",
          "evalue": "name 'sudoku_solver' is not defined",
          "traceback": [
            "\u001b[0;31m---------------------------------------------------------------------------\u001b[0m",
            "\u001b[0;31mNameError\u001b[0m                                 Traceback (most recent call last)",
            "\u001b[0;32m<ipython-input-4-1fb89d064181>\u001b[0m in \u001b[0;36m<cell line: 1>\u001b[0;34m()\u001b[0m\n\u001b[0;32m----> 1\u001b[0;31m \u001b[0;32mif\u001b[0m \u001b[0msudoku_solver\u001b[0m\u001b[0;34m(\u001b[0m\u001b[0mboard\u001b[0m\u001b[0;34m)\u001b[0m\u001b[0;34m:\u001b[0m\u001b[0;34m\u001b[0m\u001b[0;34m\u001b[0m\u001b[0m\n\u001b[0m\u001b[1;32m      2\u001b[0m     \u001b[0mprint\u001b[0m\u001b[0;34m(\u001b[0m\u001b[0;34m\"Sudoku puzzle solved:\"\u001b[0m\u001b[0;34m)\u001b[0m\u001b[0;34m\u001b[0m\u001b[0;34m\u001b[0m\u001b[0m\n\u001b[1;32m      3\u001b[0m     \u001b[0;32mfor\u001b[0m \u001b[0mrow\u001b[0m \u001b[0;32min\u001b[0m \u001b[0mboard\u001b[0m\u001b[0;34m:\u001b[0m\u001b[0;34m\u001b[0m\u001b[0;34m\u001b[0m\u001b[0m\n\u001b[1;32m      4\u001b[0m         \u001b[0mprint\u001b[0m\u001b[0;34m(\u001b[0m\u001b[0mrow\u001b[0m\u001b[0;34m)\u001b[0m\u001b[0;34m\u001b[0m\u001b[0;34m\u001b[0m\u001b[0m\n\u001b[1;32m      5\u001b[0m \u001b[0;32melse\u001b[0m\u001b[0;34m:\u001b[0m\u001b[0;34m\u001b[0m\u001b[0;34m\u001b[0m\u001b[0m\n",
            "\u001b[0;31mNameError\u001b[0m: name 'sudoku_solver' is not defined"
          ]
        }
      ]
    }
  ]
}